{
  "nbformat": 4,
  "nbformat_minor": 0,
  "metadata": {
    "colab": {
      "name": "image_classification_with_vision_transformer",
      "provenance": [],
      "include_colab_link": true
    },
    "environment": {
      "name": "tf2-gpu.2-4.m61",
      "type": "gcloud",
      "uri": "gcr.io/deeplearning-platform-release/tf2-gpu.2-4:m61"
    },
    "kernelspec": {
      "display_name": "Python 3",
      "language": "python",
      "name": "python3"
    },
    "language_info": {
      "codemirror_mode": {
        "name": "ipython",
        "version": 3
      },
      "file_extension": ".py",
      "mimetype": "text/x-python",
      "name": "python",
      "nbconvert_exporter": "python",
      "pygments_lexer": "ipython3",
      "version": "3.7.9"
    },
    "accelerator": "GPU"
  },
  "cells": [
    {
      "cell_type": "markdown",
      "metadata": {
        "id": "view-in-github",
        "colab_type": "text"
      },
      "source": [
        "<a href=\"https://colab.research.google.com/github/xianyummy/c_note_c-/blob/main/image_classification_with_vision_transformer.ipynb\" target=\"_parent\"><img src=\"https://colab.research.google.com/assets/colab-badge.svg\" alt=\"Open In Colab\"/></a>"
      ]
    },
    {
      "cell_type": "markdown",
      "metadata": {
        "id": "1PX_6DdScf0o"
      },
      "source": [
        "This notebook comes from this tutorial [Image classification with Vision Transformer](https://keras.io/examples/vision/image_classification_with_vision_transformer/). I have only modified the hyperparameters to train the underlying model on the CIFAR-10 dataset."
      ]
    },
    {
      "cell_type": "markdown",
      "metadata": {
        "id": "ZsNe8FAPu5zU"
      },
      "source": [
        "## Setup"
      ]
    },
    {
      "cell_type": "code",
      "metadata": {
        "colab": {
          "base_uri": "https://localhost:8080/"
        },
        "id": "B0OkBbbbu80d",
        "outputId": "e82e9322-d864-4c67-bab0-46e19e6d03d7"
      },
      "source": [
        "!pip install -U tensorflow-addons"
      ],
      "execution_count": null,
      "outputs": [
        {
          "output_type": "stream",
          "text": [
            "Collecting tensorflow-addons\n",
            "\u001b[?25l  Downloading https://files.pythonhosted.org/packages/66/4b/e893d194e626c24b3df2253066aa418f46a432fdb68250cde14bf9bb0700/tensorflow_addons-0.13.0-cp37-cp37m-manylinux2010_x86_64.whl (679kB)\n",
            "\r\u001b[K     |▌                               | 10kB 20.9MB/s eta 0:00:01\r\u001b[K     |█                               | 20kB 27.9MB/s eta 0:00:01\r\u001b[K     |█▌                              | 30kB 25.8MB/s eta 0:00:01\r\u001b[K     |██                              | 40kB 19.3MB/s eta 0:00:01\r\u001b[K     |██▍                             | 51kB 15.5MB/s eta 0:00:01\r\u001b[K     |███                             | 61kB 14.1MB/s eta 0:00:01\r\u001b[K     |███▍                            | 71kB 14.0MB/s eta 0:00:01\r\u001b[K     |███▉                            | 81kB 15.1MB/s eta 0:00:01\r\u001b[K     |████▍                           | 92kB 12.8MB/s eta 0:00:01\r\u001b[K     |████▉                           | 102kB 13.9MB/s eta 0:00:01\r\u001b[K     |█████▎                          | 112kB 13.9MB/s eta 0:00:01\r\u001b[K     |█████▉                          | 122kB 13.9MB/s eta 0:00:01\r\u001b[K     |██████▎                         | 133kB 13.9MB/s eta 0:00:01\r\u001b[K     |██████▊                         | 143kB 13.9MB/s eta 0:00:01\r\u001b[K     |███████▎                        | 153kB 13.9MB/s eta 0:00:01\r\u001b[K     |███████▊                        | 163kB 13.9MB/s eta 0:00:01\r\u001b[K     |████████▏                       | 174kB 13.9MB/s eta 0:00:01\r\u001b[K     |████████▊                       | 184kB 13.9MB/s eta 0:00:01\r\u001b[K     |█████████▏                      | 194kB 13.9MB/s eta 0:00:01\r\u001b[K     |█████████▋                      | 204kB 13.9MB/s eta 0:00:01\r\u001b[K     |██████████▏                     | 215kB 13.9MB/s eta 0:00:01\r\u001b[K     |██████████▋                     | 225kB 13.9MB/s eta 0:00:01\r\u001b[K     |███████████                     | 235kB 13.9MB/s eta 0:00:01\r\u001b[K     |███████████▋                    | 245kB 13.9MB/s eta 0:00:01\r\u001b[K     |████████████                    | 256kB 13.9MB/s eta 0:00:01\r\u001b[K     |████████████▌                   | 266kB 13.9MB/s eta 0:00:01\r\u001b[K     |█████████████                   | 276kB 13.9MB/s eta 0:00:01\r\u001b[K     |█████████████▌                  | 286kB 13.9MB/s eta 0:00:01\r\u001b[K     |██████████████                  | 296kB 13.9MB/s eta 0:00:01\r\u001b[K     |██████████████▌                 | 307kB 13.9MB/s eta 0:00:01\r\u001b[K     |███████████████                 | 317kB 13.9MB/s eta 0:00:01\r\u001b[K     |███████████████▍                | 327kB 13.9MB/s eta 0:00:01\r\u001b[K     |████████████████                | 337kB 13.9MB/s eta 0:00:01\r\u001b[K     |████████████████▍               | 348kB 13.9MB/s eta 0:00:01\r\u001b[K     |████████████████▉               | 358kB 13.9MB/s eta 0:00:01\r\u001b[K     |█████████████████▍              | 368kB 13.9MB/s eta 0:00:01\r\u001b[K     |█████████████████▉              | 378kB 13.9MB/s eta 0:00:01\r\u001b[K     |██████████████████▎             | 389kB 13.9MB/s eta 0:00:01\r\u001b[K     |██████████████████▉             | 399kB 13.9MB/s eta 0:00:01\r\u001b[K     |███████████████████▎            | 409kB 13.9MB/s eta 0:00:01\r\u001b[K     |███████████████████▊            | 419kB 13.9MB/s eta 0:00:01\r\u001b[K     |████████████████████▎           | 430kB 13.9MB/s eta 0:00:01\r\u001b[K     |████████████████████▊           | 440kB 13.9MB/s eta 0:00:01\r\u001b[K     |█████████████████████▏          | 450kB 13.9MB/s eta 0:00:01\r\u001b[K     |█████████████████████▊          | 460kB 13.9MB/s eta 0:00:01\r\u001b[K     |██████████████████████▏         | 471kB 13.9MB/s eta 0:00:01\r\u001b[K     |██████████████████████▋         | 481kB 13.9MB/s eta 0:00:01\r\u001b[K     |███████████████████████▏        | 491kB 13.9MB/s eta 0:00:01\r\u001b[K     |███████████████████████▋        | 501kB 13.9MB/s eta 0:00:01\r\u001b[K     |████████████████████████        | 512kB 13.9MB/s eta 0:00:01\r\u001b[K     |████████████████████████▋       | 522kB 13.9MB/s eta 0:00:01\r\u001b[K     |█████████████████████████       | 532kB 13.9MB/s eta 0:00:01\r\u001b[K     |█████████████████████████▌      | 542kB 13.9MB/s eta 0:00:01\r\u001b[K     |██████████████████████████      | 552kB 13.9MB/s eta 0:00:01\r\u001b[K     |██████████████████████████▌     | 563kB 13.9MB/s eta 0:00:01\r\u001b[K     |███████████████████████████     | 573kB 13.9MB/s eta 0:00:01\r\u001b[K     |███████████████████████████▌    | 583kB 13.9MB/s eta 0:00:01\r\u001b[K     |████████████████████████████    | 593kB 13.9MB/s eta 0:00:01\r\u001b[K     |████████████████████████████▍   | 604kB 13.9MB/s eta 0:00:01\r\u001b[K     |█████████████████████████████   | 614kB 13.9MB/s eta 0:00:01\r\u001b[K     |█████████████████████████████▍  | 624kB 13.9MB/s eta 0:00:01\r\u001b[K     |█████████████████████████████▉  | 634kB 13.9MB/s eta 0:00:01\r\u001b[K     |██████████████████████████████▍ | 645kB 13.9MB/s eta 0:00:01\r\u001b[K     |██████████████████████████████▉ | 655kB 13.9MB/s eta 0:00:01\r\u001b[K     |███████████████████████████████▎| 665kB 13.9MB/s eta 0:00:01\r\u001b[K     |███████████████████████████████▉| 675kB 13.9MB/s eta 0:00:01\r\u001b[K     |████████████████████████████████| 686kB 13.9MB/s \n",
            "\u001b[?25hRequirement already satisfied, skipping upgrade: typeguard>=2.7 in /usr/local/lib/python3.7/dist-packages (from tensorflow-addons) (2.7.1)\n",
            "Installing collected packages: tensorflow-addons\n",
            "Successfully installed tensorflow-addons-0.13.0\n"
          ],
          "name": "stdout"
        }
      ]
    },
    {
      "cell_type": "code",
      "metadata": {
        "id": "-WQLr-Rcu5zV"
      },
      "source": [
        "import numpy as np\n",
        "import tensorflow as tf\n",
        "from tensorflow import keras\n",
        "from tensorflow.keras import layers\n",
        "import tensorflow_addons as tfa"
      ],
      "execution_count": null,
      "outputs": []
    },
    {
      "cell_type": "markdown",
      "metadata": {
        "id": "T_DrbSiRu5zV"
      },
      "source": [
        "## Prepare the data"
      ]
    },
    {
      "cell_type": "code",
      "metadata": {
        "colab": {
          "base_uri": "https://localhost:8080/"
        },
        "id": "NA2smPSxu5zV",
        "outputId": "7b826400-99ba-4506-88b6-33d8cc484e3d"
      },
      "source": [
        "num_classes = 100\n",
        "input_shape = (32, 32, 3)\n",
        "\n",
        "(x_train, y_train), (x_test, y_test) = keras.datasets.cifar10.load_data()\n",
        "\n",
        "print(f\"x_train shape: {x_train.shape} - y_train shape: {y_train.shape}\")\n",
        "print(f\"x_test shape: {x_test.shape} - y_test shape: {y_test.shape}\")\n"
      ],
      "execution_count": null,
      "outputs": [
        {
          "output_type": "stream",
          "text": [
            "Downloading data from https://www.cs.toronto.edu/~kriz/cifar-10-python.tar.gz\n",
            "170500096/170498071 [==============================] - 6s 0us/step\n",
            "x_train shape: (50000, 32, 32, 3) - y_train shape: (50000, 1)\n",
            "x_test shape: (10000, 32, 32, 3) - y_test shape: (10000, 1)\n"
          ],
          "name": "stdout"
        }
      ]
    },
    {
      "cell_type": "markdown",
      "metadata": {
        "id": "r-JvZqfOu5zV"
      },
      "source": [
        "## Configure the hyperparameters"
      ]
    },
    {
      "cell_type": "code",
      "metadata": {
        "id": "K902Ap-4u5zV"
      },
      "source": [
        "learning_rate = 0.001\n",
        "weight_decay = 0.0001\n",
        "batch_size = 128\n",
        "num_epochs = 100\n",
        "image_size = 32\n",
        "patch_size = 4  # Size of the patches to be extract from the input images\n",
        "num_patches = (image_size // patch_size) ** 2\n",
        "projection_dim = 128\n",
        "num_heads = 2\n",
        "transformer_units = [\n",
        "    projection_dim,\n",
        "    projection_dim,\n",
        "]  # Size of the transformer layers\n",
        "transformer_layers = 2\n",
        "mlp_head_units = [projection_dim * 4, projection_dim * 2]  # Size of the dense layers of the final classifier\n"
      ],
      "execution_count": null,
      "outputs": []
    },
    {
      "cell_type": "markdown",
      "metadata": {
        "id": "QUumYGytu5zW"
      },
      "source": [
        "## Use data augmentation"
      ]
    },
    {
      "cell_type": "code",
      "metadata": {
        "id": "RfsN3KJXu5zW"
      },
      "source": [
        "data_augmentation = keras.Sequential(\n",
        "    [\n",
        "        layers.experimental.preprocessing.Rescaling(scale=1./255),\n",
        "        layers.experimental.preprocessing.RandomCrop(image_size, image_size),\n",
        "        layers.experimental.preprocessing.RandomFlip(\"horizontal\")\n",
        "    ],\n",
        "    name=\"data_augmentation\"\n",
        ")"
      ],
      "execution_count": null,
      "outputs": []
    },
    {
      "cell_type": "markdown",
      "metadata": {
        "id": "zXwEcxHbu5zW"
      },
      "source": [
        "## Implement multilayer perceptron (MLP)"
      ]
    },
    {
      "cell_type": "code",
      "metadata": {
        "id": "LxMwV3tGu5zW"
      },
      "source": [
        "\n",
        "def mlp(x, hidden_units, dropout_rate):\n",
        "    for units in hidden_units:\n",
        "        x = layers.Dense(units, activation=tf.nn.gelu)(x)\n",
        "        x = layers.Dropout(dropout_rate)(x)\n",
        "    return x\n"
      ],
      "execution_count": null,
      "outputs": []
    },
    {
      "cell_type": "markdown",
      "metadata": {
        "id": "wNJGuApRu5zW"
      },
      "source": [
        "## Implement patch creation as a layer"
      ]
    },
    {
      "cell_type": "code",
      "metadata": {
        "id": "obAurvIfu5zW"
      },
      "source": [
        "\n",
        "class Patches(layers.Layer):\n",
        "    def __init__(self, patch_size):\n",
        "        super(Patches, self).__init__()\n",
        "        self.patch_size = patch_size\n",
        "\n",
        "    def call(self, images):\n",
        "        batch_size = tf.shape(images)[0]\n",
        "        patches = tf.image.extract_patches(\n",
        "            images=images,\n",
        "            sizes=[1, self.patch_size, self.patch_size, 1],\n",
        "            strides=[1, self.patch_size, self.patch_size, 1],\n",
        "            rates=[1, 1, 1, 1],\n",
        "            padding=\"VALID\",\n",
        "        )\n",
        "        patch_dims = patches.shape[-1]\n",
        "        patches = tf.reshape(patches, [batch_size, -1, patch_dims])\n",
        "        return patches\n"
      ],
      "execution_count": null,
      "outputs": []
    },
    {
      "cell_type": "markdown",
      "metadata": {
        "id": "sfFhgVpMu5zX"
      },
      "source": [
        "Let's display patches for a sample image"
      ]
    },
    {
      "cell_type": "code",
      "metadata": {
        "colab": {
          "base_uri": "https://localhost:8080/",
          "height": 547
        },
        "id": "kOHP1MxVu5zX",
        "outputId": "d0d92ad9-e8b7-40c6-d4c5-1c30487fedb2"
      },
      "source": [
        "import matplotlib.pyplot as plt\n",
        "\n",
        "plt.figure(figsize=(4, 4))\n",
        "image = x_train[np.random.choice(range(x_train.shape[0]))]\n",
        "plt.imshow(image.astype(\"uint8\"))\n",
        "plt.axis(\"off\")\n",
        "plt.savefig(\"original.png\", dpi=300, bbox_inches=\"tight\")\n",
        "\n",
        "resized_image = tf.image.resize(\n",
        "    tf.convert_to_tensor([image]), size=(image_size, image_size)\n",
        ")\n",
        "patches = Patches(patch_size)(resized_image)\n",
        "print(f\"Image size: {image_size} X {image_size}\")\n",
        "print(f\"Patch size: {patch_size} X {patch_size}\")\n",
        "print(f\"Patches per image: {patches.shape[1]}\")\n",
        "print(f\"Elements per patch: {patches.shape[-1]}\")\n",
        "\n",
        "n = int(np.sqrt(patches.shape[1]))\n",
        "plt.figure(figsize=(4, 4))\n",
        "for i, patch in enumerate(patches[0]):\n",
        "    ax = plt.subplot(n, n, i + 1)\n",
        "    patch_img = tf.reshape(patch, (patch_size, patch_size, 3))\n",
        "    plt.imshow(patch_img.numpy().astype(\"uint8\"))\n",
        "    plt.axis(\"off\")\n",
        "plt.savefig(\"patched.png\", dpi=300, bbox_inches=\"tight\")"
      ],
      "execution_count": null,
      "outputs": [
        {
          "output_type": "stream",
          "text": [
            "Image size: 32 X 32\n",
            "Patch size: 4 X 4\n",
            "Patches per image: 64\n",
            "Elements per patch: 48\n"
          ],
          "name": "stdout"
        },
        {
          "output_type": "display_data",
          "data": {
            "image/png": "[encoded data removed]",
            "text/plain": [
              "<Figure size 288x288 with 1 Axes>"
            ]
          },
          "metadata": {
            "tags": [],
            "needs_background": "light"
          }
        },
        {
          "output_type": "display_data",
          "data": {
            "image/png": "[encoded data removed]",
            "text/plain": [
              "<Figure size 288x288 with 64 Axes>"
            ]
          },
          "metadata": {
            "tags": [],
            "needs_background": "light"
          }
        }
      ]
    },
    {
      "cell_type": "markdown",
      "metadata": {
        "id": "-jBkglq5u5zX"
      },
      "source": [
        "## Implement the patch encoding layer\n",
        "\n",
        "The `PatchEncoder` layer will linearly transform a patch by projecting it into a\n",
        "vector of size `projection_dim`. In addition, it adds a learnable position\n",
        "embedding to the projected vector."
      ]
    },
    {
      "cell_type": "code",
      "metadata": {
        "id": "CmG-dsffu5zX"
      },
      "source": [
        "\n",
        "class PatchEncoder(layers.Layer):\n",
        "    def __init__(self, num_patches, projection_dim):\n",
        "        super(PatchEncoder, self).__init__()\n",
        "        self.num_patches = num_patches\n",
        "        self.projection = layers.Dense(units=projection_dim)\n",
        "        self.position_embedding = layers.Embedding(\n",
        "            input_dim=num_patches, output_dim=projection_dim\n",
        "        )\n",
        "\n",
        "    def call(self, patch):\n",
        "        positions = tf.range(start=0, limit=self.num_patches, delta=1)\n",
        "        encoded = self.projection(patch) + self.position_embedding(positions)\n",
        "        return encoded\n"
      ],
      "execution_count": null,
      "outputs": []
    },
    {
      "cell_type": "markdown",
      "metadata": {
        "id": "l7TQ-zu4u5zX"
      },
      "source": [
        "## Build the ViT model"
      ]
    },
    {
      "cell_type": "code",
      "metadata": {
        "id": "k43gCKm3u5zY"
      },
      "source": [
        "\n",
        "def create_vit_classifier():\n",
        "    inputs = layers.Input(shape=input_shape)\n",
        "    # Augment data.\n",
        "    augmented = data_augmentation(inputs)\n",
        "    # Create patches.\n",
        "    patches = Patches(patch_size)(augmented)\n",
        "    # Encode patches.\n",
        "    encoded_patches = PatchEncoder(num_patches, projection_dim)(patches)\n",
        "\n",
        "    # Create multiple layers of the Transformer block.\n",
        "    for _ in range(transformer_layers):\n",
        "        # Layer normalization 1.\n",
        "        x1 = layers.LayerNormalization(epsilon=1e-6)(encoded_patches)\n",
        "        # Create a multi-head attention layer.\n",
        "        attention_output = layers.MultiHeadAttention(\n",
        "            num_heads=num_heads, key_dim=projection_dim, dropout=0.1\n",
        "        )(x1, x1)\n",
        "        # Skip connection 1.\n",
        "        x2 = layers.Add()([attention_output, encoded_patches])\n",
        "        # Layer normalization 2.\n",
        "        x3 = layers.LayerNormalization(epsilon=1e-6)(x2)\n",
        "        # MLP.\n",
        "        x3 = mlp(x3, hidden_units=transformer_units, dropout_rate=0.1)\n",
        "        # Skip connection 2.\n",
        "        encoded_patches = layers.Add()([x3, x2])\n",
        "\n",
        "    # Create a [batch_size, projection_dim] tensor.\n",
        "    representation = layers.LayerNormalization(epsilon=1e-6)(encoded_patches)\n",
        "    representation = layers.Flatten()(representation)\n",
        "    representation = layers.Dropout(0.5)(representation)\n",
        "    # Add MLP.\n",
        "    features = mlp(representation, hidden_units=mlp_head_units, dropout_rate=0.5)\n",
        "    # Classify outputs.\n",
        "    logits = layers.Dense(num_classes)(features)\n",
        "    # Create the Keras model.\n",
        "    model = keras.Model(inputs=inputs, outputs=logits)\n",
        "    return model\n"
      ],
      "execution_count": null,
      "outputs": []
    },
    {
      "cell_type": "code",
      "metadata": {
        "colab": {
          "base_uri": "https://localhost:8080/"
        },
        "id": "PbcoBmQsxHry",
        "outputId": "092ef01e-499f-4134-9219-674036d5552c"
      },
      "source": [
        "create_vit_classifier().count_params()/1e6"
      ],
      "execution_count": null,
      "outputs": [
        {
          "output_type": "execute_result",
          "data": {
            "text/plain": [
              "4.697572"
            ]
          },
          "metadata": {
            "tags": []
          },
          "execution_count": 14
        }
      ]
    },
    {
      "cell_type": "markdown",
      "metadata": {
        "id": "OZm_hg6uu5zY"
      },
      "source": [
        "## Compile, train, and evaluate the mode"
      ]
    },
    {
      "cell_type": "code",
      "metadata": {
        "colab": {
          "base_uri": "https://localhost:8080/"
        },
        "id": "_VIbGKt7u5zY",
        "outputId": "8be390b9-990f-4bad-c950-1e7e10ed19a0"
      },
      "source": [
        "\n",
        "def run_experiment(model):\n",
        "    optimizer = tfa.optimizers.AdamW(\n",
        "        learning_rate=learning_rate, weight_decay=weight_decay\n",
        "    )\n",
        "\n",
        "    model.compile(\n",
        "        optimizer=optimizer,\n",
        "        loss=keras.losses.SparseCategoricalCrossentropy(from_logits=True),\n",
        "        metrics=[\n",
        "            keras.metrics.SparseCategoricalAccuracy(name=\"accuracy\"),\n",
        "            keras.metrics.SparseTopKCategoricalAccuracy(5, name=\"top-5-accuracy\"),\n",
        "        ],\n",
        "    )\n",
        "\n",
        "    checkpoint_filepath = \"/tmp/checkpoint\"\n",
        "    checkpoint_callback = keras.callbacks.ModelCheckpoint(\n",
        "        checkpoint_filepath,\n",
        "        monitor=\"val_accuracy\",\n",
        "        save_best_only=True,\n",
        "        save_weights_only=True,\n",
        "    )\n",
        "\n",
        "    history = model.fit(\n",
        "        x=x_train,\n",
        "        y=y_train,\n",
        "        batch_size=batch_size,\n",
        "        epochs=num_epochs,\n",
        "        validation_split=0.1,\n",
        "        callbacks=[checkpoint_callback],\n",
        "    )\n",
        "\n",
        "    model.load_weights(checkpoint_filepath)\n",
        "    _, accuracy, top_5_accuracy = model.evaluate(x_test, y_test)\n",
        "    print(f\"Test accuracy: {round(accuracy * 100, 2)}%\")\n",
        "    print(f\"Test top 5 accuracy: {round(top_5_accuracy * 100, 2)}%\")\n",
        "\n",
        "    return history\n",
        "\n",
        "\n",
        "vit_classifier = create_vit_classifier()\n",
        "history = run_experiment(vit_classifier)\n"
      ],
      "execution_count": null,
      "outputs": [
        {
          "output_type": "stream",
          "text": [
            "Epoch 1/100\n",
            "WARNING:tensorflow:From /usr/local/lib/python3.7/dist-packages/tensorflow/python/ops/array_ops.py:5049: calling gather (from tensorflow.python.ops.array_ops) with validate_indices is deprecated and will be removed in a future version.\n",
            "Instructions for updating:\n",
            "The `validate_indices` argument has no effect. Indices are always validated on CPU and never validated on GPU.\n",
            "352/352 [==============================] - 11s 18ms/step - loss: 2.4210 - accuracy: 0.1666 - top-5-accuracy: 0.6628 - val_loss: 1.8675 - val_accuracy: 0.2614 - val_top-5-accuracy: 0.8410\n",
            "Epoch 2/100\n",
            "352/352 [==============================] - 6s 16ms/step - loss: 1.9150 - accuracy: 0.2698 - top-5-accuracy: 0.8211 - val_loss: 1.7095 - val_accuracy: 0.3504 - val_top-5-accuracy: 0.8780\n",
            "Epoch 3/100\n",
            "352/352 [==============================] - 6s 16ms/step - loss: 1.7462 - accuracy: 0.3418 - top-5-accuracy: 0.8648 - val_loss: 1.6259 - val_accuracy: 0.4250 - val_top-5-accuracy: 0.8984\n",
            "Epoch 4/100\n",
            "352/352 [==============================] - 6s 16ms/step - loss: 1.6344 - accuracy: 0.3977 - top-5-accuracy: 0.8887 - val_loss: 1.4923 - val_accuracy: 0.4634 - val_top-5-accuracy: 0.9242\n",
            "Epoch 5/100\n",
            "352/352 [==============================] - 6s 16ms/step - loss: 1.5395 - accuracy: 0.4393 - top-5-accuracy: 0.9066 - val_loss: 1.3822 - val_accuracy: 0.5178 - val_top-5-accuracy: 0.9378\n",
            "Epoch 6/100\n",
            "352/352 [==============================] - 6s 16ms/step - loss: 1.4676 - accuracy: 0.4664 - top-5-accuracy: 0.9192 - val_loss: 1.3121 - val_accuracy: 0.5244 - val_top-5-accuracy: 0.9372\n",
            "Epoch 7/100\n",
            "352/352 [==============================] - 6s 16ms/step - loss: 1.4025 - accuracy: 0.4960 - top-5-accuracy: 0.9243 - val_loss: 1.2781 - val_accuracy: 0.5452 - val_top-5-accuracy: 0.9448\n",
            "Epoch 8/100\n",
            "352/352 [==============================] - 6s 16ms/step - loss: 1.3502 - accuracy: 0.5150 - top-5-accuracy: 0.9322 - val_loss: 1.1927 - val_accuracy: 0.5732 - val_top-5-accuracy: 0.9584\n",
            "Epoch 9/100\n",
            "352/352 [==============================] - 6s 16ms/step - loss: 1.2928 - accuracy: 0.5404 - top-5-accuracy: 0.9370 - val_loss: 1.1325 - val_accuracy: 0.6022 - val_top-5-accuracy: 0.9558\n",
            "Epoch 10/100\n",
            "352/352 [==============================] - 6s 16ms/step - loss: 1.2310 - accuracy: 0.5627 - top-5-accuracy: 0.9454 - val_loss: 1.0841 - val_accuracy: 0.6188 - val_top-5-accuracy: 0.9632\n",
            "Epoch 11/100\n",
            "352/352 [==============================] - 6s 16ms/step - loss: 1.1774 - accuracy: 0.5829 - top-5-accuracy: 0.9500 - val_loss: 1.0420 - val_accuracy: 0.6334 - val_top-5-accuracy: 0.9672\n",
            "Epoch 12/100\n",
            "352/352 [==============================] - 6s 16ms/step - loss: 1.1229 - accuracy: 0.6049 - top-5-accuracy: 0.9563 - val_loss: 1.0045 - val_accuracy: 0.6522 - val_top-5-accuracy: 0.9690\n",
            "Epoch 13/100\n",
            "352/352 [==============================] - 6s 16ms/step - loss: 1.0752 - accuracy: 0.6198 - top-5-accuracy: 0.9602 - val_loss: 0.9483 - val_accuracy: 0.6692 - val_top-5-accuracy: 0.9724\n",
            "Epoch 14/100\n",
            "352/352 [==============================] - 6s 16ms/step - loss: 1.0320 - accuracy: 0.6375 - top-5-accuracy: 0.9657 - val_loss: 0.9141 - val_accuracy: 0.6772 - val_top-5-accuracy: 0.9716\n",
            "Epoch 15/100\n",
            "352/352 [==============================] - 6s 16ms/step - loss: 0.9838 - accuracy: 0.6548 - top-5-accuracy: 0.9694 - val_loss: 0.8998 - val_accuracy: 0.6886 - val_top-5-accuracy: 0.9754\n",
            "Epoch 16/100\n",
            "352/352 [==============================] - 6s 16ms/step - loss: 0.9445 - accuracy: 0.6660 - top-5-accuracy: 0.9719 - val_loss: 0.8676 - val_accuracy: 0.7008 - val_top-5-accuracy: 0.9758\n",
            "Epoch 17/100\n",
            "352/352 [==============================] - 6s 16ms/step - loss: 0.9220 - accuracy: 0.6762 - top-5-accuracy: 0.9730 - val_loss: 0.8309 - val_accuracy: 0.7112 - val_top-5-accuracy: 0.9794\n",
            "Epoch 18/100\n",
            "352/352 [==============================] - 6s 16ms/step - loss: 0.8822 - accuracy: 0.6875 - top-5-accuracy: 0.9764 - val_loss: 0.8013 - val_accuracy: 0.7202 - val_top-5-accuracy: 0.9800\n",
            "Epoch 19/100\n",
            "352/352 [==============================] - 6s 16ms/step - loss: 0.8520 - accuracy: 0.7002 - top-5-accuracy: 0.9781 - val_loss: 0.7875 - val_accuracy: 0.7226 - val_top-5-accuracy: 0.9808\n",
            "Epoch 20/100\n",
            "352/352 [==============================] - 6s 16ms/step - loss: 0.8201 - accuracy: 0.7112 - top-5-accuracy: 0.9800 - val_loss: 0.7707 - val_accuracy: 0.7308 - val_top-5-accuracy: 0.9804\n",
            "Epoch 21/100\n",
            "352/352 [==============================] - 6s 16ms/step - loss: 0.8000 - accuracy: 0.7171 - top-5-accuracy: 0.9816 - val_loss: 0.7594 - val_accuracy: 0.7324 - val_top-5-accuracy: 0.9830\n",
            "Epoch 22/100\n",
            "352/352 [==============================] - 6s 16ms/step - loss: 0.7847 - accuracy: 0.7238 - top-5-accuracy: 0.9826 - val_loss: 0.7518 - val_accuracy: 0.7368 - val_top-5-accuracy: 0.9814\n",
            "Epoch 23/100\n",
            "352/352 [==============================] - 6s 16ms/step - loss: 0.7632 - accuracy: 0.7328 - top-5-accuracy: 0.9834 - val_loss: 0.7561 - val_accuracy: 0.7388 - val_top-5-accuracy: 0.9796\n",
            "Epoch 24/100\n",
            "352/352 [==============================] - 6s 16ms/step - loss: 0.7335 - accuracy: 0.7407 - top-5-accuracy: 0.9850 - val_loss: 0.7446 - val_accuracy: 0.7428 - val_top-5-accuracy: 0.9818\n",
            "Epoch 25/100\n",
            "352/352 [==============================] - 6s 16ms/step - loss: 0.7222 - accuracy: 0.7451 - top-5-accuracy: 0.9857 - val_loss: 0.7395 - val_accuracy: 0.7384 - val_top-5-accuracy: 0.9802\n",
            "Epoch 26/100\n",
            "352/352 [==============================] - 6s 16ms/step - loss: 0.7059 - accuracy: 0.7508 - top-5-accuracy: 0.9864 - val_loss: 0.7275 - val_accuracy: 0.7422 - val_top-5-accuracy: 0.9812\n",
            "Epoch 27/100\n",
            "352/352 [==============================] - 6s 16ms/step - loss: 0.6883 - accuracy: 0.7588 - top-5-accuracy: 0.9872 - val_loss: 0.7465 - val_accuracy: 0.7486 - val_top-5-accuracy: 0.9814\n",
            "Epoch 28/100\n",
            "352/352 [==============================] - 6s 16ms/step - loss: 0.6782 - accuracy: 0.7626 - top-5-accuracy: 0.9879 - val_loss: 0.7227 - val_accuracy: 0.7498 - val_top-5-accuracy: 0.9832\n",
            "Epoch 29/100\n",
            "352/352 [==============================] - 6s 16ms/step - loss: 0.6635 - accuracy: 0.7662 - top-5-accuracy: 0.9891 - val_loss: 0.7228 - val_accuracy: 0.7498 - val_top-5-accuracy: 0.9802\n",
            "Epoch 30/100\n",
            "352/352 [==============================] - 6s 16ms/step - loss: 0.6475 - accuracy: 0.7732 - top-5-accuracy: 0.9890 - val_loss: 0.7245 - val_accuracy: 0.7518 - val_top-5-accuracy: 0.9792\n",
            "Epoch 31/100\n",
            "352/352 [==============================] - 6s 17ms/step - loss: 0.6319 - accuracy: 0.7748 - top-5-accuracy: 0.9896 - val_loss: 0.7108 - val_accuracy: 0.7594 - val_top-5-accuracy: 0.9850\n",
            "Epoch 32/100\n",
            "352/352 [==============================] - 6s 17ms/step - loss: 0.6305 - accuracy: 0.7786 - top-5-accuracy: 0.9892 - val_loss: 0.7235 - val_accuracy: 0.7494 - val_top-5-accuracy: 0.9800\n",
            "Epoch 33/100\n",
            "352/352 [==============================] - 6s 16ms/step - loss: 0.6098 - accuracy: 0.7826 - top-5-accuracy: 0.9912 - val_loss: 0.6974 - val_accuracy: 0.7632 - val_top-5-accuracy: 0.9826\n",
            "Epoch 34/100\n",
            "352/352 [==============================] - 6s 16ms/step - loss: 0.6032 - accuracy: 0.7875 - top-5-accuracy: 0.9911 - val_loss: 0.7209 - val_accuracy: 0.7532 - val_top-5-accuracy: 0.9840\n",
            "Epoch 35/100\n",
            "352/352 [==============================] - 6s 16ms/step - loss: 0.5987 - accuracy: 0.7917 - top-5-accuracy: 0.9908 - val_loss: 0.6931 - val_accuracy: 0.7590 - val_top-5-accuracy: 0.9832\n",
            "Epoch 36/100\n",
            "352/352 [==============================] - 6s 16ms/step - loss: 0.5779 - accuracy: 0.7962 - top-5-accuracy: 0.9917 - val_loss: 0.7091 - val_accuracy: 0.7574 - val_top-5-accuracy: 0.9848\n",
            "Epoch 37/100\n",
            "352/352 [==============================] - 6s 16ms/step - loss: 0.5798 - accuracy: 0.7954 - top-5-accuracy: 0.9924 - val_loss: 0.6957 - val_accuracy: 0.7624 - val_top-5-accuracy: 0.9842\n",
            "Epoch 38/100\n",
            "352/352 [==============================] - 6s 16ms/step - loss: 0.5700 - accuracy: 0.7978 - top-5-accuracy: 0.9927 - val_loss: 0.6639 - val_accuracy: 0.7706 - val_top-5-accuracy: 0.9834\n",
            "Epoch 39/100\n",
            "352/352 [==============================] - 6s 16ms/step - loss: 0.5652 - accuracy: 0.8005 - top-5-accuracy: 0.9919 - val_loss: 0.6971 - val_accuracy: 0.7662 - val_top-5-accuracy: 0.9846\n",
            "Epoch 40/100\n",
            "352/352 [==============================] - 6s 16ms/step - loss: 0.5497 - accuracy: 0.8047 - top-5-accuracy: 0.9924 - val_loss: 0.6896 - val_accuracy: 0.7676 - val_top-5-accuracy: 0.9832\n",
            "Epoch 41/100\n",
            "352/352 [==============================] - 6s 16ms/step - loss: 0.5428 - accuracy: 0.8097 - top-5-accuracy: 0.9931 - val_loss: 0.6928 - val_accuracy: 0.7610 - val_top-5-accuracy: 0.9836\n",
            "Epoch 42/100\n",
            "352/352 [==============================] - 6s 16ms/step - loss: 0.5405 - accuracy: 0.8092 - top-5-accuracy: 0.9930 - val_loss: 0.6819 - val_accuracy: 0.7654 - val_top-5-accuracy: 0.9858\n",
            "Epoch 43/100\n",
            "352/352 [==============================] - 6s 16ms/step - loss: 0.5332 - accuracy: 0.8143 - top-5-accuracy: 0.9927 - val_loss: 0.6856 - val_accuracy: 0.7736 - val_top-5-accuracy: 0.9854\n",
            "Epoch 44/100\n",
            "352/352 [==============================] - 6s 17ms/step - loss: 0.5296 - accuracy: 0.8122 - top-5-accuracy: 0.9934 - val_loss: 0.6807 - val_accuracy: 0.7646 - val_top-5-accuracy: 0.9840\n",
            "Epoch 45/100\n",
            "352/352 [==============================] - 6s 16ms/step - loss: 0.5200 - accuracy: 0.8172 - top-5-accuracy: 0.9929 - val_loss: 0.6770 - val_accuracy: 0.7730 - val_top-5-accuracy: 0.9864\n",
            "Epoch 46/100\n",
            "352/352 [==============================] - 6s 16ms/step - loss: 0.5124 - accuracy: 0.8195 - top-5-accuracy: 0.9942 - val_loss: 0.7029 - val_accuracy: 0.7666 - val_top-5-accuracy: 0.9856\n",
            "Epoch 47/100\n",
            "352/352 [==============================] - 6s 17ms/step - loss: 0.5178 - accuracy: 0.8187 - top-5-accuracy: 0.9936 - val_loss: 0.6893 - val_accuracy: 0.7644 - val_top-5-accuracy: 0.9824\n",
            "Epoch 48/100\n",
            "352/352 [==============================] - 6s 16ms/step - loss: 0.5056 - accuracy: 0.8230 - top-5-accuracy: 0.9942 - val_loss: 0.6863 - val_accuracy: 0.7768 - val_top-5-accuracy: 0.9870\n",
            "Epoch 49/100\n",
            "352/352 [==============================] - 6s 16ms/step - loss: 0.5041 - accuracy: 0.8236 - top-5-accuracy: 0.9943 - val_loss: 0.6892 - val_accuracy: 0.7688 - val_top-5-accuracy: 0.9858\n",
            "Epoch 50/100\n",
            "352/352 [==============================] - 6s 16ms/step - loss: 0.4934 - accuracy: 0.8255 - top-5-accuracy: 0.9951 - val_loss: 0.7041 - val_accuracy: 0.7682 - val_top-5-accuracy: 0.9842\n",
            "Epoch 51/100\n",
            "352/352 [==============================] - 6s 16ms/step - loss: 0.4911 - accuracy: 0.8267 - top-5-accuracy: 0.9943 - val_loss: 0.6609 - val_accuracy: 0.7784 - val_top-5-accuracy: 0.9858\n",
            "Epoch 52/100\n",
            "352/352 [==============================] - 6s 16ms/step - loss: 0.4867 - accuracy: 0.8284 - top-5-accuracy: 0.9942 - val_loss: 0.7016 - val_accuracy: 0.7680 - val_top-5-accuracy: 0.9836\n",
            "Epoch 53/100\n",
            "352/352 [==============================] - 6s 16ms/step - loss: 0.4866 - accuracy: 0.8283 - top-5-accuracy: 0.9943 - val_loss: 0.6977 - val_accuracy: 0.7670 - val_top-5-accuracy: 0.9850\n",
            "Epoch 54/100\n",
            "352/352 [==============================] - 6s 16ms/step - loss: 0.4818 - accuracy: 0.8315 - top-5-accuracy: 0.9946 - val_loss: 0.6895 - val_accuracy: 0.7734 - val_top-5-accuracy: 0.9842\n",
            "Epoch 55/100\n",
            "352/352 [==============================] - 6s 16ms/step - loss: 0.4738 - accuracy: 0.8336 - top-5-accuracy: 0.9948 - val_loss: 0.6768 - val_accuracy: 0.7746 - val_top-5-accuracy: 0.9860\n",
            "Epoch 56/100\n",
            "352/352 [==============================] - 6s 16ms/step - loss: 0.4844 - accuracy: 0.8314 - top-5-accuracy: 0.9945 - val_loss: 0.6887 - val_accuracy: 0.7688 - val_top-5-accuracy: 0.9846\n",
            "Epoch 57/100\n",
            "352/352 [==============================] - 6s 16ms/step - loss: 0.4681 - accuracy: 0.8351 - top-5-accuracy: 0.9949 - val_loss: 0.6780 - val_accuracy: 0.7800 - val_top-5-accuracy: 0.9862\n",
            "Epoch 58/100\n",
            "352/352 [==============================] - 6s 16ms/step - loss: 0.4721 - accuracy: 0.8367 - top-5-accuracy: 0.9941 - val_loss: 0.6858 - val_accuracy: 0.7720 - val_top-5-accuracy: 0.9834\n",
            "Epoch 59/100\n",
            "352/352 [==============================] - 6s 16ms/step - loss: 0.4598 - accuracy: 0.8374 - top-5-accuracy: 0.9950 - val_loss: 0.6823 - val_accuracy: 0.7780 - val_top-5-accuracy: 0.9854\n",
            "Epoch 60/100\n",
            "352/352 [==============================] - 6s 16ms/step - loss: 0.4677 - accuracy: 0.8361 - top-5-accuracy: 0.9952 - val_loss: 0.6816 - val_accuracy: 0.7716 - val_top-5-accuracy: 0.9858\n",
            "Epoch 61/100\n",
            "352/352 [==============================] - 6s 17ms/step - loss: 0.4550 - accuracy: 0.8400 - top-5-accuracy: 0.9954 - val_loss: 0.6930 - val_accuracy: 0.7678 - val_top-5-accuracy: 0.9856\n",
            "Epoch 62/100\n",
            "352/352 [==============================] - 6s 16ms/step - loss: 0.4559 - accuracy: 0.8381 - top-5-accuracy: 0.9954 - val_loss: 0.6907 - val_accuracy: 0.7764 - val_top-5-accuracy: 0.9858\n",
            "Epoch 63/100\n",
            "352/352 [==============================] - 6s 16ms/step - loss: 0.4531 - accuracy: 0.8417 - top-5-accuracy: 0.9958 - val_loss: 0.6905 - val_accuracy: 0.7746 - val_top-5-accuracy: 0.9856\n",
            "Epoch 64/100\n",
            "352/352 [==============================] - 6s 16ms/step - loss: 0.4518 - accuracy: 0.8412 - top-5-accuracy: 0.9954 - val_loss: 0.6901 - val_accuracy: 0.7756 - val_top-5-accuracy: 0.9852\n",
            "Epoch 65/100\n",
            "352/352 [==============================] - 6s 16ms/step - loss: 0.4504 - accuracy: 0.8423 - top-5-accuracy: 0.9953 - val_loss: 0.6811 - val_accuracy: 0.7790 - val_top-5-accuracy: 0.9860\n",
            "Epoch 66/100\n",
            "352/352 [==============================] - 6s 16ms/step - loss: 0.4518 - accuracy: 0.8408 - top-5-accuracy: 0.9951 - val_loss: 0.6712 - val_accuracy: 0.7786 - val_top-5-accuracy: 0.9844\n",
            "Epoch 67/100\n",
            "352/352 [==============================] - 6s 16ms/step - loss: 0.4426 - accuracy: 0.8458 - top-5-accuracy: 0.9950 - val_loss: 0.6943 - val_accuracy: 0.7730 - val_top-5-accuracy: 0.9824\n",
            "Epoch 68/100\n",
            "352/352 [==============================] - 6s 16ms/step - loss: 0.4444 - accuracy: 0.8431 - top-5-accuracy: 0.9953 - val_loss: 0.6714 - val_accuracy: 0.7792 - val_top-5-accuracy: 0.9840\n",
            "Epoch 69/100\n",
            "352/352 [==============================] - 6s 16ms/step - loss: 0.4382 - accuracy: 0.8472 - top-5-accuracy: 0.9957 - val_loss: 0.6591 - val_accuracy: 0.7852 - val_top-5-accuracy: 0.9862\n",
            "Epoch 70/100\n",
            "352/352 [==============================] - 6s 17ms/step - loss: 0.4410 - accuracy: 0.8440 - top-5-accuracy: 0.9960 - val_loss: 0.7081 - val_accuracy: 0.7728 - val_top-5-accuracy: 0.9866\n",
            "Epoch 71/100\n",
            "352/352 [==============================] - 6s 17ms/step - loss: 0.4301 - accuracy: 0.8498 - top-5-accuracy: 0.9956 - val_loss: 0.6688 - val_accuracy: 0.7798 - val_top-5-accuracy: 0.9834\n",
            "Epoch 72/100\n",
            "352/352 [==============================] - 6s 16ms/step - loss: 0.4346 - accuracy: 0.8468 - top-5-accuracy: 0.9960 - val_loss: 0.7008 - val_accuracy: 0.7760 - val_top-5-accuracy: 0.9844\n",
            "Epoch 73/100\n",
            "352/352 [==============================] - 6s 16ms/step - loss: 0.4355 - accuracy: 0.8479 - top-5-accuracy: 0.9957 - val_loss: 0.6742 - val_accuracy: 0.7776 - val_top-5-accuracy: 0.9846\n",
            "Epoch 74/100\n",
            "352/352 [==============================] - 6s 16ms/step - loss: 0.4280 - accuracy: 0.8516 - top-5-accuracy: 0.9958 - val_loss: 0.6869 - val_accuracy: 0.7750 - val_top-5-accuracy: 0.9818\n",
            "Epoch 75/100\n",
            "352/352 [==============================] - 6s 16ms/step - loss: 0.4379 - accuracy: 0.8469 - top-5-accuracy: 0.9958 - val_loss: 0.6640 - val_accuracy: 0.7800 - val_top-5-accuracy: 0.9870\n",
            "Epoch 76/100\n",
            "352/352 [==============================] - 6s 16ms/step - loss: 0.4222 - accuracy: 0.8536 - top-5-accuracy: 0.9958 - val_loss: 0.6780 - val_accuracy: 0.7838 - val_top-5-accuracy: 0.9858\n",
            "Epoch 77/100\n",
            "352/352 [==============================] - 6s 16ms/step - loss: 0.4330 - accuracy: 0.8497 - top-5-accuracy: 0.9956 - val_loss: 0.6806 - val_accuracy: 0.7806 - val_top-5-accuracy: 0.9854\n",
            "Epoch 78/100\n",
            "352/352 [==============================] - 6s 16ms/step - loss: 0.4196 - accuracy: 0.8529 - top-5-accuracy: 0.9957 - val_loss: 0.6767 - val_accuracy: 0.7796 - val_top-5-accuracy: 0.9862\n",
            "Epoch 79/100\n",
            "352/352 [==============================] - 6s 16ms/step - loss: 0.4208 - accuracy: 0.8536 - top-5-accuracy: 0.9954 - val_loss: 0.6766 - val_accuracy: 0.7814 - val_top-5-accuracy: 0.9868\n",
            "Epoch 80/100\n",
            "352/352 [==============================] - 6s 16ms/step - loss: 0.4221 - accuracy: 0.8528 - top-5-accuracy: 0.9959 - val_loss: 0.6681 - val_accuracy: 0.7894 - val_top-5-accuracy: 0.9842\n",
            "Epoch 81/100\n",
            "352/352 [==============================] - 6s 17ms/step - loss: 0.4236 - accuracy: 0.8531 - top-5-accuracy: 0.9956 - val_loss: 0.6782 - val_accuracy: 0.7828 - val_top-5-accuracy: 0.9840\n",
            "Epoch 82/100\n",
            "352/352 [==============================] - 6s 17ms/step - loss: 0.4211 - accuracy: 0.8515 - top-5-accuracy: 0.9960 - val_loss: 0.6643 - val_accuracy: 0.7844 - val_top-5-accuracy: 0.9856\n",
            "Epoch 83/100\n",
            "352/352 [==============================] - 6s 17ms/step - loss: 0.4172 - accuracy: 0.8560 - top-5-accuracy: 0.9960 - val_loss: 0.6909 - val_accuracy: 0.7800 - val_top-5-accuracy: 0.9856\n",
            "Epoch 84/100\n",
            "352/352 [==============================] - 6s 17ms/step - loss: 0.4212 - accuracy: 0.8536 - top-5-accuracy: 0.9956 - val_loss: 0.7108 - val_accuracy: 0.7746 - val_top-5-accuracy: 0.9870\n",
            "Epoch 85/100\n",
            "352/352 [==============================] - 6s 16ms/step - loss: 0.4143 - accuracy: 0.8549 - top-5-accuracy: 0.9961 - val_loss: 0.6689 - val_accuracy: 0.7816 - val_top-5-accuracy: 0.9876\n",
            "Epoch 86/100\n",
            "352/352 [==============================] - 6s 16ms/step - loss: 0.4101 - accuracy: 0.8568 - top-5-accuracy: 0.9962 - val_loss: 0.6451 - val_accuracy: 0.7924 - val_top-5-accuracy: 0.9858\n",
            "Epoch 87/100\n",
            "352/352 [==============================] - 6s 17ms/step - loss: 0.4181 - accuracy: 0.8546 - top-5-accuracy: 0.9963 - val_loss: 0.6596 - val_accuracy: 0.7788 - val_top-5-accuracy: 0.9854\n",
            "Epoch 88/100\n",
            "352/352 [==============================] - 6s 17ms/step - loss: 0.4079 - accuracy: 0.8569 - top-5-accuracy: 0.9958 - val_loss: 0.6657 - val_accuracy: 0.7834 - val_top-5-accuracy: 0.9858\n",
            "Epoch 89/100\n",
            "352/352 [==============================] - 6s 16ms/step - loss: 0.4121 - accuracy: 0.8579 - top-5-accuracy: 0.9962 - val_loss: 0.6516 - val_accuracy: 0.7862 - val_top-5-accuracy: 0.9866\n",
            "Epoch 90/100\n",
            "352/352 [==============================] - 6s 16ms/step - loss: 0.4088 - accuracy: 0.8588 - top-5-accuracy: 0.9963 - val_loss: 0.6521 - val_accuracy: 0.7888 - val_top-5-accuracy: 0.9866\n",
            "Epoch 91/100\n",
            "352/352 [==============================] - 6s 16ms/step - loss: 0.4041 - accuracy: 0.8585 - top-5-accuracy: 0.9966 - val_loss: 0.6755 - val_accuracy: 0.7858 - val_top-5-accuracy: 0.9856\n",
            "Epoch 92/100\n",
            "352/352 [==============================] - 6s 16ms/step - loss: 0.4165 - accuracy: 0.8556 - top-5-accuracy: 0.9964 - val_loss: 0.6828 - val_accuracy: 0.7794 - val_top-5-accuracy: 0.9858\n",
            "Epoch 93/100\n",
            "352/352 [==============================] - 6s 16ms/step - loss: 0.4044 - accuracy: 0.8569 - top-5-accuracy: 0.9966 - val_loss: 0.6783 - val_accuracy: 0.7820 - val_top-5-accuracy: 0.9864\n",
            "Epoch 94/100\n",
            "352/352 [==============================] - 6s 17ms/step - loss: 0.4132 - accuracy: 0.8551 - top-5-accuracy: 0.9961 - val_loss: 0.6687 - val_accuracy: 0.7796 - val_top-5-accuracy: 0.9850\n",
            "Epoch 95/100\n",
            "352/352 [==============================] - 6s 16ms/step - loss: 0.3950 - accuracy: 0.8639 - top-5-accuracy: 0.9958 - val_loss: 0.6823 - val_accuracy: 0.7866 - val_top-5-accuracy: 0.9854\n",
            "Epoch 96/100\n",
            "352/352 [==============================] - 6s 16ms/step - loss: 0.4047 - accuracy: 0.8586 - top-5-accuracy: 0.9962 - val_loss: 0.6487 - val_accuracy: 0.7842 - val_top-5-accuracy: 0.9860\n",
            "Epoch 97/100\n",
            "352/352 [==============================] - 6s 16ms/step - loss: 0.4013 - accuracy: 0.8614 - top-5-accuracy: 0.9962 - val_loss: 0.6725 - val_accuracy: 0.7830 - val_top-5-accuracy: 0.9850\n",
            "Epoch 98/100\n",
            "352/352 [==============================] - 6s 16ms/step - loss: 0.4016 - accuracy: 0.8603 - top-5-accuracy: 0.9960 - val_loss: 0.6643 - val_accuracy: 0.7800 - val_top-5-accuracy: 0.9868\n",
            "Epoch 99/100\n",
            "352/352 [==============================] - 6s 17ms/step - loss: 0.4030 - accuracy: 0.8602 - top-5-accuracy: 0.9960 - val_loss: 0.6782 - val_accuracy: 0.7830 - val_top-5-accuracy: 0.9864\n",
            "Epoch 100/100\n",
            "352/352 [==============================] - 6s 16ms/step - loss: 0.3948 - accuracy: 0.8609 - top-5-accuracy: 0.9969 - val_loss: 0.6638 - val_accuracy: 0.7864 - val_top-5-accuracy: 0.9864\n",
            "313/313 [==============================] - 2s 6ms/step - loss: 0.6607 - accuracy: 0.7822 - top-5-accuracy: 0.9834\n",
            "Test accuracy: 78.22%\n",
            "Test top 5 accuracy: 98.34%\n"
          ],
          "name": "stdout"
        }
      ]
    },
    {
      "cell_type": "code",
      "metadata": {
        "colab": {
          "base_uri": "https://localhost:8080/",
          "height": 296
        },
        "id": "HPvTxOirxiPB",
        "outputId": "f08e86f8-1819-478a-80ae-3592c6dd4586"
      },
      "source": [
        "plt.plot(history.history[\"loss\"], label=\"train_loss\")\n",
        "plt.plot(history.history[\"val_loss\"], label=\"val_loss\")\n",
        "plt.xlabel(\"Epochs\")\n",
        "plt.ylabel(\"Loss\")\n",
        "plt.title(\"Train and Validation Losses Over Epochs\", fontsize=14)\n",
        "plt.legend()\n",
        "plt.grid()\n",
        "plt.show()"
      ],
      "execution_count": null,
      "outputs": [
        {
          "output_type": "display_data",
          "data": {
            "image/png": "[encoded data removed]",
            "text/plain": [
              "<Figure size 432x288 with 1 Axes>"
            ]
          },
          "metadata": {
            "tags": [],
            "needs_background": "light"
          }
        }
      ]
    }
  ]
}