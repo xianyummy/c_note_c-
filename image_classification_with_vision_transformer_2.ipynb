{
  "nbformat": 4,
  "nbformat_minor": 0,
  "metadata": {
    "colab": {
      "name": "image_classification_with_vision_transformer",
      "provenance": [],
      "include_colab_link": true
    },
    "environment": {
      "name": "tf2-gpu.2-4.m61",
      "type": "gcloud",
      "uri": "gcr.io/deeplearning-platform-release/tf2-gpu.2-4:m61"
    },
    "kernelspec": {
      "display_name": "Python 3",
      "language": "python",
      "name": "python3"
    },
    "language_info": {
      "codemirror_mode": {
        "name": "ipython",
        "version": 3
      },
      "file_extension": ".py",
      "mimetype": "text/x-python",
      "name": "python",
      "nbconvert_exporter": "python",
      "pygments_lexer": "ipython3",
      "version": "3.7.9"
    },
    "accelerator": "GPU"
  },
  "cells": [
    {
      "cell_type": "markdown",
      "metadata": {
        "id": "view-in-github",
        "colab_type": "text"
      },
      "source": [
        "<a href=\"https://colab.research.google.com/github/xianyummy/c_note_c-/blob/main/image_classification_with_vision_transformer_2.ipynb\" target=\"_parent\"><img src=\"https://colab.research.google.com/assets/colab-badge.svg\" alt=\"Open In Colab\"/></a>"
      ]
    },
    {
      "cell_type": "markdown",
      "metadata": {
        "id": "1PX_6DdScf0o"
      },
      "source": [
        "This notebook comes from this tutorial [Image classification with Vision Transformer](https://keras.io/examples/vision/image_classification_with_vision_transformer/). I have only modified the hyperparameters to train the underlying model on the CIFAR-10 dataset."
      ]
    },
    {
      "cell_type": "markdown",
      "metadata": {
        "id": "ZsNe8FAPu5zU"
      },
      "source": [
        "## Setup"
      ]
    },
    {
      "cell_type": "code",
      "metadata": {
        "colab": {
          "base_uri": "https://localhost:8080/"
        },
        "id": "B0OkBbbbu80d",
        "outputId": "7801dc53-d245-4e30-d875-f8096185cd6a"
      },
      "source": [
        "!pip install -U tensorflow-addons"
      ],
      "execution_count": 1,
      "outputs": [
        {
          "output_type": "stream",
          "name": "stdout",
          "text": [
            "Requirement already satisfied: tensorflow-addons in /usr/local/lib/python3.10/dist-packages (0.20.0)\n",
            "Collecting tensorflow-addons\n",
            "  Using cached tensorflow_addons-0.23.0-cp310-cp310-manylinux_2_17_x86_64.manylinux2014_x86_64.whl.metadata (1.8 kB)\n",
            "Requirement already satisfied: packaging in /usr/local/lib/python3.10/dist-packages (from tensorflow-addons) (24.2)\n",
            "Requirement already satisfied: typeguard<3.0.0,>=2.7 in /usr/local/lib/python3.10/dist-packages (from tensorflow-addons) (2.13.3)\n",
            "Using cached tensorflow_addons-0.23.0-cp310-cp310-manylinux_2_17_x86_64.manylinux2014_x86_64.whl (611 kB)\n",
            "Installing collected packages: tensorflow-addons\n",
            "  Attempting uninstall: tensorflow-addons\n",
            "    Found existing installation: tensorflow-addons 0.20.0\n",
            "    Uninstalling tensorflow-addons-0.20.0:\n",
            "      Successfully uninstalled tensorflow-addons-0.20.0\n",
            "Successfully installed tensorflow-addons-0.23.0\n"
          ]
        }
      ]
    },
    {
      "cell_type": "code",
      "metadata": {
        "id": "-WQLr-Rcu5zV",
        "outputId": "d2657fc1-9563-4da1-a1ab-5e41e4ec3cce",
        "colab": {
          "base_uri": "https://localhost:8080/"
        }
      },
      "source": [
        "import numpy as np\n",
        "import tensorflow as tf\n",
        "from tensorflow import keras\n",
        "from tensorflow.keras import layers\n",
        "import tensorflow_addons as tfa"
      ],
      "execution_count": 2,
      "outputs": [
        {
          "output_type": "stream",
          "name": "stderr",
          "text": [
            "/usr/local/lib/python3.10/dist-packages/tensorflow_addons/utils/tfa_eol_msg.py:23: UserWarning: \n",
            "\n",
            "TensorFlow Addons (TFA) has ended development and introduction of new features.\n",
            "TFA has entered a minimal maintenance and release mode until a planned end of life in May 2024.\n",
            "Please modify downstream libraries to take dependencies from other repositories in our TensorFlow community (e.g. Keras, Keras-CV, and Keras-NLP). \n",
            "\n",
            "For more information see: https://github.com/tensorflow/addons/issues/2807 \n",
            "\n",
            "  warnings.warn(\n",
            "/usr/local/lib/python3.10/dist-packages/tensorflow_addons/utils/ensure_tf_install.py:53: UserWarning: Tensorflow Addons supports using Python ops for all Tensorflow versions above or equal to 2.13.0 and strictly below 2.16.0 (nightly versions are not supported). \n",
            " The versions of TensorFlow you are currently using is 2.12.0 and is not supported. \n",
            "Some things might work, some things might not.\n",
            "If you were to encounter a bug, do not file an issue.\n",
            "If you want to make sure you're using a tested and supported configuration, either change the TensorFlow version or the TensorFlow Addons's version. \n",
            "You can find the compatibility matrix in TensorFlow Addon's readme:\n",
            "https://github.com/tensorflow/addons\n",
            "  warnings.warn(\n"
          ]
        }
      ]
    },
    {
      "cell_type": "markdown",
      "metadata": {
        "id": "T_DrbSiRu5zV"
      },
      "source": [
        "## Prepare the data"
      ]
    },
    {
      "cell_type": "code",
      "metadata": {
        "colab": {
          "base_uri": "https://localhost:8080/"
        },
        "id": "NA2smPSxu5zV",
        "outputId": "b14e2f97-136a-4a22-cbc6-cca1bdf27a5a"
      },
      "source": [
        "num_classes = 100\n",
        "#定義分類問題的類別數量\n",
        "input_shape = (32, 32, 3)\n",
        "#定義輸入數據的形狀 32x32：輸入圖像的寬和高為 32 像素。3：輸入圖像的通道數為 3，表示彩色圖像（RGB）。\n",
        "\n",
        "(x_train, y_train), (x_test, y_test) = keras.datasets.cifar10.load_data()\n",
        "\n",
        "print(f\"x_train shape: {x_train.shape} - y_train shape: {y_train.shape}\")\n",
        "print(f\"x_test shape: {x_test.shape} - y_test shape: {y_test.shape}\")\n"
      ],
      "execution_count": 3,
      "outputs": [
        {
          "output_type": "stream",
          "name": "stdout",
          "text": [
            "Downloading data from https://www.cs.toronto.edu/~kriz/cifar-10-python.tar.gz\n",
            "170498071/170498071 [==============================] - 13s 0us/step\n",
            "x_train shape: (50000, 32, 32, 3) - y_train shape: (50000, 1)\n",
            "x_test shape: (10000, 32, 32, 3) - y_test shape: (10000, 1)\n"
          ]
        }
      ]
    },
    {
      "cell_type": "markdown",
      "metadata": {
        "id": "r-JvZqfOu5zV"
      },
      "source": [
        "## Configure the hyperparameters"
      ]
    },
    {
      "cell_type": "code",
      "metadata": {
        "id": "K902Ap-4u5zV"
      },
      "source": [
        "learning_rate = 0.001\n",
        "#模型訓練時的學習率，控制參數更新的步長。值越大，更新越快，但可能導致訓練不穩定。\n",
        "weight_decay = 0.0001\n",
        "#權重衰減，用於正則化，防止模型過擬合。\n",
        "batch_size = 128\n",
        "#每次訓練中處理的樣本數，較大的批次大小有助於穩定訓練，但需要更多內存。\n",
        "num_epochs = 100\n",
        "#訓練的迭代次數，數據集將被完整掃描 100 次。\n",
        "image_size = 32\n",
        "#輸入圖像的大小為32*32\n",
        "patch_size = 4  # Size of the patches to be extract from the input images\n",
        "num_patches = (image_size // patch_size) ** 2\n",
        "projection_dim = 128\n",
        "#每個 Patch 的特徵會被投影（轉換）成一個 128 維的向量，這是 Transformer 的基本輸入單元。\n",
        "num_heads = 2\n",
        "#使用多頭注意力機制，這裡將每個 Patch 的特徵分成 2 個注意力頭。\n",
        "transformer_units = [\n",
        "    projection_dim,\n",
        "    projection_dim,\n",
        "]  # Size of the transformer layers\n",
        "transformer_layers = 2\n",
        "mlp_head_units = [projection_dim * 4, projection_dim * 2]  # Size of the dense layers of the final classifier\n"
      ],
      "execution_count": 4,
      "outputs": []
    },
    {
      "cell_type": "markdown",
      "metadata": {
        "id": "QUumYGytu5zW"
      },
      "source": [
        "## Use data augmentation"
      ]
    },
    {
      "cell_type": "code",
      "metadata": {
        "id": "RfsN3KJXu5zW"
      },
      "source": [
        "data_augmentation = keras.Sequential(\n",
        "    [\n",
        "        layers.experimental.preprocessing.Rescaling(scale=1./255),\n",
        "        layers.experimental.preprocessing.RandomCrop(image_size, image_size),\n",
        "        layers.experimental.preprocessing.RandomFlip(\"horizontal\")\n",
        "    ],\n",
        "    name=\"data_augmentation\"\n",
        ")"
      ],
      "execution_count": 5,
      "outputs": []
    },
    {
      "cell_type": "markdown",
      "metadata": {
        "id": "zXwEcxHbu5zW"
      },
      "source": [
        "## Implement multilayer perceptron (MLP)"
      ]
    },
    {
      "cell_type": "code",
      "metadata": {
        "id": "LxMwV3tGu5zW"
      },
      "source": [
        "\n",
        "def mlp(x, hidden_units, dropout_rate):\n",
        "    for units in hidden_units:\n",
        "        x = layers.Dense(units, activation=tf.nn.gelu)(x)\n",
        "        x = layers.Dropout(dropout_rate)(x)\n",
        "    return x\n"
      ],
      "execution_count": 6,
      "outputs": []
    },
    {
      "cell_type": "markdown",
      "metadata": {
        "id": "wNJGuApRu5zW"
      },
      "source": [
        "## Implement patch creation as a layer"
      ]
    },
    {
      "cell_type": "code",
      "metadata": {
        "id": "obAurvIfu5zW"
      },
      "source": [
        "\n",
        "class Patches(layers.Layer):\n",
        "    def __init__(self, patch_size):\n",
        "        super(Patches, self).__init__()\n",
        "        self.patch_size = patch_size\n",
        "\n",
        "    def call(self, images):\n",
        "        batch_size = tf.shape(images)[0]\n",
        "        patches = tf.image.extract_patches(\n",
        "            images=images,\n",
        "            sizes=[1, self.patch_size, self.patch_size, 1],\n",
        "            strides=[1, self.patch_size, self.patch_size, 1],\n",
        "            rates=[1, 1, 1, 1],\n",
        "            padding=\"VALID\",\n",
        "        )\n",
        "        patch_dims = patches.shape[-1]\n",
        "        patches = tf.reshape(patches, [batch_size, -1, patch_dims])\n",
        "        return patches\n"
      ],
      "execution_count": 7,
      "outputs": []
    },
    {
      "cell_type": "markdown",
      "metadata": {
        "id": "sfFhgVpMu5zX"
      },
      "source": [
        "Let's display patches for a sample image"
      ]
    },
    {
      "cell_type": "code",
      "metadata": {
        "colab": {
          "base_uri": "https://localhost:8080/",
          "height": 742
        },
        "id": "kOHP1MxVu5zX",
        "outputId": "da6305b9-c714-42d0-b0ff-30a9a8e1449e"
      },
      "source": [
        "import matplotlib.pyplot as plt\n",
        "\n",
        "plt.figure(figsize=(4, 4))\n",
        "image = x_train[np.random.choice(range(x_train.shape[0]))]\n",
        "plt.imshow(image.astype(\"uint8\"))\n",
        "plt.axis(\"off\")\n",
        "plt.savefig(\"original.png\", dpi=300, bbox_inches=\"tight\")\n",
        "\n",
        "resized_image = tf.image.resize(\n",
        "    tf.convert_to_tensor([image]), size=(image_size, image_size)\n",
        ")\n",
        "patches = Patches(patch_size)(resized_image)\n",
        "print(f\"Image size: {image_size} X {image_size}\")\n",
        "print(f\"Patch size: {patch_size} X {patch_size}\")\n",
        "print(f\"Patches per image: {patches.shape[1]}\")\n",
        "print(f\"Elements per patch: {patches.shape[-1]}\")\n",
        "\n",
        "n = int(np.sqrt(patches.shape[1]))\n",
        "plt.figure(figsize=(4, 4))\n",
        "for i, patch in enumerate(patches[0]):\n",
        "    ax = plt.subplot(n, n, i + 1)\n",
        "    patch_img = tf.reshape(patch, (patch_size, patch_size, 3))\n",
        "    plt.imshow(patch_img.numpy().astype(\"uint8\"))\n",
        "    plt.axis(\"off\")\n",
        "plt.savefig(\"patched.png\", dpi=300, bbox_inches=\"tight\")"
      ],
      "execution_count": 8,
      "outputs": [
        {
          "output_type": "stream",
          "name": "stdout",
          "text": [
            "Image size: 32 X 32\n",
            "Patch size: 4 X 4\n",
            "Patches per image: 64\n",
            "Elements per patch: 48\n"
          ]
        },
        {
          "output_type": "display_data",
          "data": {
            "text/plain": [
              "<Figure size 400x400 with 1 Axes>"
            ],
            "image/png": "[encoded data removed]"
          },
          "metadata": {}
        },
        {
          "output_type": "display_data",
          "data": {
            "text/plain": [
              "<Figure size 400x400 with 64 Axes>"
            ],
            "image/png": "[encoded data removed]"
          },
          "metadata": {}
        }
      ]
    },
    {
      "cell_type": "markdown",
      "metadata": {
        "id": "-jBkglq5u5zX"
      },
      "source": [
        "## Implement the patch encoding layer\n",
        "\n",
        "The `PatchEncoder` layer will linearly transform a patch by projecting it into a\n",
        "vector of size `projection_dim`. In addition, it adds a learnable position\n",
        "embedding to the projected vector."
      ]
    },
    {
      "cell_type": "code",
      "metadata": {
        "id": "CmG-dsffu5zX"
      },
      "source": [
        "\n",
        "class PatchEncoder(layers.Layer):\n",
        "    def __init__(self, num_patches, projection_dim):\n",
        "        super(PatchEncoder, self).__init__()\n",
        "        self.num_patches = num_patches\n",
        "        self.projection = layers.Dense(units=projection_dim)\n",
        "        self.position_embedding = layers.Embedding(\n",
        "            input_dim=num_patches, output_dim=projection_dim\n",
        "        )\n",
        "\n",
        "    def call(self, patch):\n",
        "        positions = tf.range(start=0, limit=self.num_patches, delta=1)\n",
        "        encoded = self.projection(patch) + self.position_embedding(positions)\n",
        "        return encoded\n"
      ],
      "execution_count": 9,
      "outputs": []
    },
    {
      "cell_type": "markdown",
      "metadata": {
        "id": "l7TQ-zu4u5zX"
      },
      "source": [
        "## Build the ViT model"
      ]
    },
    {
      "cell_type": "code",
      "metadata": {
        "id": "k43gCKm3u5zY"
      },
      "source": [
        "\n",
        "def create_vit_classifier():\n",
        "    inputs = layers.Input(shape=input_shape)\n",
        "    # Augment data.\n",
        "    augmented = data_augmentation(inputs)\n",
        "    # Create patches.\n",
        "    patches = Patches(patch_size)(augmented)\n",
        "    # Encode patches.\n",
        "    encoded_patches = PatchEncoder(num_patches, projection_dim)(patches)\n",
        "\n",
        "    # Create multiple layers of the Transformer block.\n",
        "    for _ in range(transformer_layers):\n",
        "        # Layer normalization 1.\n",
        "        x1 = layers.LayerNormalization(epsilon=1e-6)(encoded_patches)\n",
        "        # Create a multi-head attention layer.\n",
        "        attention_output = layers.MultiHeadAttention(\n",
        "            num_heads=num_heads, key_dim=projection_dim, dropout=0.1\n",
        "        )(x1, x1)\n",
        "        # Skip connection 1.\n",
        "        x2 = layers.Add()([attention_output, encoded_patches])\n",
        "        # Layer normalization 2.\n",
        "        x3 = layers.LayerNormalization(epsilon=1e-6)(x2)\n",
        "        # MLP.\n",
        "        x3 = mlp(x3, hidden_units=transformer_units, dropout_rate=0.1)\n",
        "        # Skip connection 2.\n",
        "        encoded_patches = layers.Add()([x3, x2])\n",
        "\n",
        "    # Create a [batch_size, projection_dim] tensor.\n",
        "    representation = layers.LayerNormalization(epsilon=1e-6)(encoded_patches)\n",
        "    representation = layers.Flatten()(representation)\n",
        "    representation = layers.Dropout(0.5)(representation)\n",
        "    # Add MLP.\n",
        "    features = mlp(representation, hidden_units=mlp_head_units, dropout_rate=0.5)\n",
        "    # Classify outputs.\n",
        "    logits = layers.Dense(num_classes)(features)\n",
        "    # Create the Keras model.\n",
        "    model = keras.Model(inputs=inputs, outputs=logits)\n",
        "    return model\n"
      ],
      "execution_count": 10,
      "outputs": []
    },
    {
      "cell_type": "code",
      "metadata": {
        "colab": {
          "base_uri": "https://localhost:8080/"
        },
        "id": "PbcoBmQsxHry",
        "outputId": "af1aa42e-8f71-42f0-b5f8-f08b5ffd8f22"
      },
      "source": [
        "create_vit_classifier().count_params()/1e6"
      ],
      "execution_count": 11,
      "outputs": [
        {
          "output_type": "execute_result",
          "data": {
            "text/plain": [
              "4.697572"
            ]
          },
          "metadata": {},
          "execution_count": 11
        }
      ]
    },
    {
      "cell_type": "markdown",
      "metadata": {
        "id": "OZm_hg6uu5zY"
      },
      "source": [
        "## Compile, train, and evaluate the mode"
      ]
    },
    {
      "cell_type": "code",
      "metadata": {
        "colab": {
          "base_uri": "https://localhost:8080/"
        },
        "id": "_VIbGKt7u5zY",
        "outputId": "b7d058e0-2a40-437c-caf0-74a9341c81ba"
      },
      "source": [
        "\n",
        "def run_experiment(model):\n",
        "    optimizer = tfa.optimizers.AdamW(\n",
        "        learning_rate=learning_rate, weight_decay=weight_decay\n",
        "    )\n",
        "\n",
        "    model.compile(\n",
        "        optimizer=optimizer,\n",
        "        loss=keras.losses.SparseCategoricalCrossentropy(from_logits=True),\n",
        "        metrics=[\n",
        "            keras.metrics.SparseCategoricalAccuracy(name=\"accuracy\"),\n",
        "            keras.metrics.SparseTopKCategoricalAccuracy(5, name=\"top-5-accuracy\"),\n",
        "        ],\n",
        "    )\n",
        "\n",
        "    checkpoint_filepath = \"/tmp/checkpoint\"\n",
        "    checkpoint_callback = keras.callbacks.ModelCheckpoint(\n",
        "        checkpoint_filepath,\n",
        "        monitor=\"val_accuracy\",\n",
        "        save_best_only=True,\n",
        "        save_weights_only=True,\n",
        "    )\n",
        "\n",
        "    history = model.fit(\n",
        "        x=x_train,\n",
        "        y=y_train,\n",
        "        batch_size=batch_size,\n",
        "        epochs=num_epochs,\n",
        "        validation_split=0.1,\n",
        "        callbacks=[checkpoint_callback],\n",
        "    )\n",
        "\n",
        "    model.load_weights(checkpoint_filepath)\n",
        "    _, accuracy, top_5_accuracy = model.evaluate(x_test, y_test)\n",
        "    print(f\"Test accuracy: {round(accuracy * 100, 2)}%\")\n",
        "    print(f\"Test top 5 accuracy: {round(top_5_accuracy * 100, 2)}%\")\n",
        "\n",
        "    return history\n",
        "\n",
        "\n",
        "vit_classifier = create_vit_classifier()\n",
        "history = run_experiment(vit_classifier)\n"
      ],
      "execution_count": null,
      "outputs": [
        {
          "output_type": "stream",
          "name": "stdout",
          "text": [
            "Epoch 1/100\n",
            "352/352 [==============================] - 350s 982ms/step - loss: 2.3680 - accuracy: 0.1902 - top-5-accuracy: 0.7014 - val_loss: 1.8816 - val_accuracy: 0.2806 - val_top-5-accuracy: 0.8348\n",
            "Epoch 2/100\n",
            "352/352 [==============================] - 321s 913ms/step - loss: 1.8695 - accuracy: 0.2991 - top-5-accuracy: 0.8369 - val_loss: 1.6819 - val_accuracy: 0.3834 - val_top-5-accuracy: 0.8824\n",
            "Epoch 3/100\n",
            "352/352 [==============================] - 315s 894ms/step - loss: 1.7050 - accuracy: 0.3729 - top-5-accuracy: 0.8720 - val_loss: 1.4769 - val_accuracy: 0.4638 - val_top-5-accuracy: 0.9234\n",
            "Epoch 4/100\n",
            "352/352 [==============================] - 317s 901ms/step - loss: 1.5741 - accuracy: 0.4259 - top-5-accuracy: 0.8996 - val_loss: 1.3886 - val_accuracy: 0.4992 - val_top-5-accuracy: 0.9364\n",
            "Epoch 5/100\n",
            "352/352 [==============================] - 308s 876ms/step - loss: 1.4895 - accuracy: 0.4628 - top-5-accuracy: 0.9143 - val_loss: 1.3736 - val_accuracy: 0.5284 - val_top-5-accuracy: 0.9264\n",
            "Epoch 6/100\n",
            "352/352 [==============================] - 316s 898ms/step - loss: 1.4151 - accuracy: 0.4907 - top-5-accuracy: 0.9270 - val_loss: 1.2515 - val_accuracy: 0.5662 - val_top-5-accuracy: 0.9544\n",
            "Epoch 7/100\n",
            "352/352 [==============================] - 315s 896ms/step - loss: 1.3503 - accuracy: 0.5189 - top-5-accuracy: 0.9317 - val_loss: 1.1879 - val_accuracy: 0.5828 - val_top-5-accuracy: 0.9586\n",
            "Epoch 8/100\n",
            "352/352 [==============================] - 304s 863ms/step - loss: 1.2856 - accuracy: 0.5443 - top-5-accuracy: 0.9399 - val_loss: 1.1408 - val_accuracy: 0.6050 - val_top-5-accuracy: 0.9534\n",
            "Epoch 9/100\n",
            "352/352 [==============================] - 303s 860ms/step - loss: 1.2268 - accuracy: 0.5638 - top-5-accuracy: 0.9465 - val_loss: 1.0982 - val_accuracy: 0.6078 - val_top-5-accuracy: 0.9594\n",
            "Epoch 10/100\n",
            "352/352 [==============================] - 311s 883ms/step - loss: 1.1737 - accuracy: 0.5905 - top-5-accuracy: 0.9519 - val_loss: 1.0258 - val_accuracy: 0.6372 - val_top-5-accuracy: 0.9674\n",
            "Epoch 11/100\n",
            "352/352 [==============================] - 315s 895ms/step - loss: 1.1367 - accuracy: 0.6008 - top-5-accuracy: 0.9548 - val_loss: 1.0196 - val_accuracy: 0.6342 - val_top-5-accuracy: 0.9706\n",
            "Epoch 12/100\n",
            "352/352 [==============================] - 306s 869ms/step - loss: 1.0854 - accuracy: 0.6188 - top-5-accuracy: 0.9592 - val_loss: 0.9194 - val_accuracy: 0.6738 - val_top-5-accuracy: 0.9746\n",
            "Epoch 13/100\n",
            "352/352 [==============================] - 303s 861ms/step - loss: 1.0348 - accuracy: 0.6392 - top-5-accuracy: 0.9639 - val_loss: 0.9249 - val_accuracy: 0.6714 - val_top-5-accuracy: 0.9746\n",
            "Epoch 14/100\n",
            "352/352 [==============================] - 301s 856ms/step - loss: 0.9964 - accuracy: 0.6515 - top-5-accuracy: 0.9668 - val_loss: 0.9198 - val_accuracy: 0.6848 - val_top-5-accuracy: 0.9694\n",
            "Epoch 15/100\n",
            "352/352 [==============================] - 313s 889ms/step - loss: 0.9645 - accuracy: 0.6597 - top-5-accuracy: 0.9704 - val_loss: 0.8614 - val_accuracy: 0.6992 - val_top-5-accuracy: 0.9726\n",
            "Epoch 16/100\n",
            "352/352 [==============================] - 315s 894ms/step - loss: 0.9214 - accuracy: 0.6776 - top-5-accuracy: 0.9731 - val_loss: 0.8425 - val_accuracy: 0.7058 - val_top-5-accuracy: 0.9796\n",
            "Epoch 17/100\n",
            "352/352 [==============================] - 303s 861ms/step - loss: 0.8913 - accuracy: 0.6892 - top-5-accuracy: 0.9746 - val_loss: 0.8153 - val_accuracy: 0.7210 - val_top-5-accuracy: 0.9814\n",
            "Epoch 18/100\n",
            "352/352 [==============================] - 305s 866ms/step - loss: 0.8544 - accuracy: 0.7008 - top-5-accuracy: 0.9771 - val_loss: 0.8142 - val_accuracy: 0.7216 - val_top-5-accuracy: 0.9802\n",
            "Epoch 19/100\n",
            "352/352 [==============================] - 324s 919ms/step - loss: 0.8300 - accuracy: 0.7088 - top-5-accuracy: 0.9792 - val_loss: 0.7899 - val_accuracy: 0.7218 - val_top-5-accuracy: 0.9800\n",
            "Epoch 20/100\n",
            "352/352 [==============================] - 314s 893ms/step - loss: 0.8107 - accuracy: 0.7154 - top-5-accuracy: 0.9802 - val_loss: 0.7998 - val_accuracy: 0.7190 - val_top-5-accuracy: 0.9772\n",
            "Epoch 21/100\n",
            "352/352 [==============================] - 309s 878ms/step - loss: 0.7766 - accuracy: 0.7264 - top-5-accuracy: 0.9835 - val_loss: 0.7331 - val_accuracy: 0.7486 - val_top-5-accuracy: 0.9820\n",
            "Epoch 22/100\n",
            "340/352 [===========================>..] - ETA: 10s - loss: 0.7636 - accuracy: 0.7325 - top-5-accuracy: 0.9840"
          ]
        }
      ]
    },
    {
      "cell_type": "code",
      "metadata": {
        "id": "HPvTxOirxiPB"
      },
      "source": [
        "plt.plot(history.history[\"loss\"], label=\"train_loss\")\n",
        "plt.plot(history.history[\"val_loss\"], label=\"val_loss\")\n",
        "plt.xlabel(\"Epochs\")\n",
        "plt.ylabel(\"Loss\")\n",
        "plt.title(\"Train and Validation Losses Over Epochs\", fontsize=14)\n",
        "plt.legend()\n",
        "plt.grid()\n",
        "plt.show()"
      ],
      "execution_count": null,
      "outputs": []
    }
  ]
}